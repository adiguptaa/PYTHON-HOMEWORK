{
 "cells": [
  {
   "cell_type": "code",
   "execution_count": null,
   "id": "7f4a1dff-4924-4ba1-9dcc-54d593463398",
   "metadata": {},
   "outputs": [],
   "source": []
  }
 ],
 "metadata": {
  "kernelspec": {
   "display_name": "",
   "name": ""
  },
  "language_info": {
   "name": ""
  }
 },
 "nbformat": 4,
 "nbformat_minor": 5
}
