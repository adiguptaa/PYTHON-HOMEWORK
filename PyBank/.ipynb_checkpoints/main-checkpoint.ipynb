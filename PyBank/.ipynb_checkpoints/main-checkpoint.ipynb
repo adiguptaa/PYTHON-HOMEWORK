{
 "cells": [
  {
   "cell_type": "code",
   "execution_count": 154,
   "id": "310883bd-eeae-47dc-9a42-61bcc9e1e618",
   "metadata": {
    "tags": []
   },
   "outputs": [],
   "source": [
    "#Import the pathlib and csv library\n",
    "from pathlib import Path\n",
    "import csv\n",
    "\n",
    "#set the file path for the budget data \n",
    "csvpath = Path(\"../PyBank/budget_data.csv\")\n",
    "\n",
    "#Initialize lists and variables for data \n",
    "months = []\n",
    "money_made = []\n",
    "month_count = 0\n",
    "money_count = 0\n",
    "average_change = []\n",
    "avg_change_index = 1\n",
    "average_sum = 0\n",
    "total_avg_change = 0 \n",
    "large_increase = 0\n",
    "increase_date = 0\n",
    "large_decrease = 0\n",
    "decrease_date = 0\n",
    "\n",
    "#open the csv file to be readable \n",
    "with open(csvpath, 'r') as csvfile:\n",
    "    csvreader = csv.reader(csvfile)\n",
    "    \n",
    "#skip the first line competely as it does not have relevant information for the data set or output \n",
    "    next(csvreader)\n",
    "    \n",
    "#iterate through the data row by row and append the data to their coresponding lists for calculations\n",
    "    for row in csvreader:\n",
    "        months.append(row[0])\n",
    "        money_made.append(int(row[1]))"
   ]
  },
  {
   "cell_type": "code",
   "execution_count": 156,
   "id": "5d71fe4a-3fb2-479a-a2cf-6ab76b555d65",
   "metadata": {
    "tags": []
   },
   "outputs": [],
   "source": [
    "#Count the total months by using a for loop to iterate throuh each item and add to a counter \n",
    "for i in months:\n",
    "#Amount of months get stored into the month_count value \n",
    "    month_count += 1"
   ]
  },
  {
   "cell_type": "code",
   "execution_count": 158,
   "id": "91aea082-852e-41ae-b34f-7655d95665b0",
   "metadata": {
    "tags": []
   },
   "outputs": [],
   "source": [
    "#The total amount of profit/losses is all of the items in the \"money_made\" list added together\n",
    "#This can be done using a for loop \n",
    "for i in money_made:\n",
    "#Each item of the list gets added to eachother and stored into the money_count value \n",
    "    money_count += i"
   ]
  },
  {
   "cell_type": "code",
   "execution_count": 160,
   "id": "e29e2ef2-4668-4a42-b638-102161670598",
   "metadata": {
    "tags": []
   },
   "outputs": [],
   "source": [
    "# Calculate the average chaange in profit or losses over the entire time \n",
    "# Logic: In order to do this we must itreate through the money_made list and subtract each item by the one before\n",
    "# and append them to a new list - average_change\n",
    "#then we must take the sum of all of those numbers and divide it by the amount of months - both values should have\n",
    "# 85 items instead of 86 because we cannot calculate the difference for the ongoing and previous month\n",
    "\n",
    "# Using a while loop will ensure that the data will be iterated through the correct amount of times \n",
    "# We start from index 1 in order to subtract the value of the previous month as we iterate through the list\n",
    "while avg_change_index < len(money_made):\n",
    "        difference = money_made[avg_change_index] - money_made[avg_change_index - 1]\n",
    "#append values to a new list for calculations \n",
    "        average_change.append(difference)\n",
    "        avg_change_index += 1        \n",
    "\n",
    "# Use the same for loop used in the last step to find the sum of all items in the average_chage list \n",
    "for i in average_change:\n",
    "#Each item of the list gets added to eachother and stored into the average_sum value \n",
    "    average_sum += i\n",
    "\n",
    "#Calculate total average change by dividing the sum of averages by the amount of months \n",
    "# We subtract one month because we cannot calculate the difference for the ongoing and previous month\n",
    "total_avg_change = average_sum / (month_count - 1)"
   ]
  },
  {
   "cell_type": "code",
   "execution_count": 162,
   "id": "de51b845-9af1-4ae2-92c0-df9a5a7b60c4",
   "metadata": {},
   "outputs": [],
   "source": [
    "# The greatest increase and decrease in profits (date and amount) over the entire period\n",
    "\n",
    "# Logic: in order to find the greateast increase and decccrease we can use the min/max function since we have all\n",
    "# of the data in a list - money_made\n",
    "\n",
    "# The index of the greatest increase and decrease amount should correspond to the value of the matching index \n",
    "# in the months list\n",
    "# I can use the index function to find the value and print the same value with the same index from the months list\n",
    "\n",
    "large_increase = (max(money_made))   # max func\n",
    "increase_date = months[money_made.index(large_increase)] #index func inside of months list\n",
    "\n",
    "large_decrease = (min(money_made))   # min func\n",
    "decrease_date = months[money_made.index(large_decrease)] #index func inside of months list"
   ]
  },
  {
   "cell_type": "code",
   "execution_count": 164,
   "id": "e6f9bab5-113c-48df-a791-1062930abaa7",
   "metadata": {},
   "outputs": [
    {
     "name": "stdout",
     "output_type": "stream",
     "text": [
      "Financial Analysis\n",
      "-----------------------------\n",
      "Total Months: 86\n",
      "Total: $38382578\n",
      "Average Change: $-2315.12\n",
      "Greatest Increase in Profits: Feb-2012 ($1170593)\n",
      "Greatest Decrease in Profits: Sep-2013 ($-1196225)\n"
     ]
    }
   ],
   "source": [
    "# Print all data and headers\n",
    "\n",
    "print(\"Financial Analysis\")\n",
    "print(\"-----------------------------\")\n",
    "print(f\"Total Months: {month_count}\")\n",
    "print(f\"Total: ${money_count}\")\n",
    "#Used the internet to find out how to print only two decimals at the end\n",
    "print(f\"Average Change: ${total_avg_change:.2f}\") \n",
    "print(f\"Greatest Increase in Profits: {increase_date} (${large_increase})\")\n",
    "print(f\"Greatest Decrease in Profits: {decrease_date} (${large_decrease})\")"
   ]
  },
  {
   "cell_type": "code",
   "execution_count": null,
   "id": "2e4cc6a1-b7d0-4073-8d94-a16efb4bfa99",
   "metadata": {},
   "outputs": [],
   "source": []
  }
 ],
 "metadata": {
  "kernelspec": {
   "display_name": "Python 3 (ipykernel)",
   "language": "python",
   "name": "python3"
  },
  "language_info": {
   "codemirror_mode": {
    "name": "ipython",
    "version": 3
   },
   "file_extension": ".py",
   "mimetype": "text/x-python",
   "name": "python",
   "nbconvert_exporter": "python",
   "pygments_lexer": "ipython3",
   "version": "3.11.5"
  }
 },
 "nbformat": 4,
 "nbformat_minor": 5
}
